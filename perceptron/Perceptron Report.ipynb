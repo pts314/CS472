{
 "cells": [
  {
   "cell_type": "markdown",
   "metadata": {},
   "source": [
    "Peter Sawyer\n",
    "\n",
    "\n",
    "Import stuff:"
   ]
  },
  {
   "cell_type": "code",
   "execution_count": 1,
   "metadata": {
    "slideshow": {
     "slide_type": "subslide"
    }
   },
   "outputs": [],
   "source": [
    "from perceptron import PerceptronClassifier\n",
    "import matplotlib.pyplot as plt\n",
    "from arff import Arff\n",
    "import numpy as np"
   ]
  },
  {
   "cell_type": "markdown",
   "metadata": {},
   "source": [
    "Because most of the code has been fairly repetative, the code will be run from a standard template"
   ]
  },
  {
   "cell_type": "code",
   "execution_count": 2,
   "metadata": {},
   "outputs": [],
   "source": [
    "def runMahCode(arff, shuffle=True, determ=0, training=False, lr=.1, quiet=False):\n",
    "    mat = Arff(arff,label_count=1)\n",
    "    data = mat.data[:,0:-1]\n",
    "    labels = mat.data[:,-1:]\n",
    "    PClass = PerceptronClassifier(lr=lr,shuffle=shuffle,deterministic=determ)\n",
    "    Accuracy = 0.0\n",
    "    if (training):\n",
    "        X_train, y_train, X_test, y_test = PerceptronClassifier.split_training(data,labels)\n",
    "        PClass.fit(X_train,y_train)\n",
    "        Accuracy = PClass.score(X_test,y_test)\n",
    "    else:\n",
    "        PClass.fit(data,labels)\n",
    "        Accuracy = PClass.score(data,labels)\n",
    "    if not quiet:\n",
    "        print(\"Accuracy = [{:.5f}]\".format(Accuracy))\n",
    "        print(\"Final Weights =\",PClass.get_weights())\n",
    "    else:\n",
    "        return Accuracy"
   ]
  },
  {
   "cell_type": "markdown",
   "metadata": {},
   "source": [
    "# 1. Implement the code"
   ]
  },
  {
   "cell_type": "code",
   "execution_count": 4,
   "metadata": {
    "scrolled": true
   },
   "outputs": [
    {
     "name": "stdout",
     "output_type": "stream",
     "text": [
      "Accuracy = [0.87500]\n",
      "Final Weights = [-0.23  0.18 -0.1 ]\n"
     ]
    }
   ],
   "source": [
    "runMahCode(\"../data/perceptron/debug/linsep2nonorigin.arff\",False, 10)"
   ]
  },
  {
   "cell_type": "markdown",
   "metadata": {},
   "source": [
    "Note that I increased the precision from the standard 2. With rounding, the debug works as expected."
   ]
  },
  {
   "cell_type": "code",
   "execution_count": 5,
   "metadata": {},
   "outputs": [
    {
     "name": "stdout",
     "output_type": "stream",
     "text": [
      "Accuracy = [0.98761]\n",
      "Final Weights = [-3.80657242 -2.840821   -3.0719334  -1.4003906   4.9       ]\n"
     ]
    }
   ],
   "source": [
    "runMahCode(\"../data/perceptron/evaluation/data_banknote_authentication.arff\",\n",
    "           shuffle=False,determ=10)"
   ]
  },
  {
   "cell_type": "markdown",
   "metadata": {},
   "source": [
    "On the eval, we got an accuracy of .987, which is pretty good"
   ]
  },
  {
   "cell_type": "markdown",
   "metadata": {},
   "source": [
    "My stopping algorithm keeps track of the score over time, stops after no improvement for a default of 10 epochs, and restoring the best result of those last 10."
   ]
  },
  {
   "cell_type": "markdown",
   "metadata": {},
   "source": [
    "# 2. Create two text files"
   ]
  },
  {
   "cell_type": "code",
   "execution_count": 6,
   "metadata": {},
   "outputs": [
    {
     "name": "stdout",
     "output_type": "stream",
     "text": [
      "inA,inB,out\n",
      "-0.2,0.3,1\n",
      "0.8,0,0\n",
      "-0.5,0.6,1\n",
      "-0.1,0.9,1\n",
      "0.2,-0.5,0\n",
      "1,0.1,0\n",
      "0.4,-0.5,0\n",
      "-1,-0.1,1\n"
     ]
    }
   ],
   "source": [
    "cat \"linSep.csv\""
   ]
  },
  {
   "cell_type": "code",
   "execution_count": 7,
   "metadata": {},
   "outputs": [
    {
     "name": "stdout",
     "output_type": "stream",
     "text": [
      "inA,inB,out\n",
      "-0.2,0.3,1\n",
      "1,-0.95,0\n",
      "-0.5,0.6,1\n",
      "-0.1,0.3,1\n",
      "-0.9,-1,0\n",
      "-0.85,0.9,0\n",
      "0.9,1,0\n",
      "-0.2,-0.5,1\n"
     ]
    }
   ],
   "source": [
    "cat \"nonLinSep.csv\""
   ]
  },
  {
   "cell_type": "code",
   "execution_count": 8,
   "metadata": {},
   "outputs": [],
   "source": [
    "linSep = np.genfromtxt('linSep.csv', delimiter=',',skip_header=1)\n",
    "nonLin = np.genfromtxt(\"nonLinSep.csv\", delimiter=\",\",skip_header=1)"
   ]
  },
  {
   "cell_type": "code",
   "execution_count": 9,
   "metadata": {},
   "outputs": [
    {
     "data": {
      "image/png": "[encoded data removed]",
      "text/plain": [
       "<Figure size 432x288 with 1 Axes>"
      ]
     },
     "metadata": {
      "needs_background": "light"
     },
     "output_type": "display_data"
    },
    {
     "data": {
      "image/png": "[encoded data removed]",
      "text/plain": [
       "<Figure size 432x288 with 1 Axes>"
      ]
     },
     "metadata": {
      "needs_background": "light"
     },
     "output_type": "display_data"
    }
   ],
   "source": [
    "plt.scatter(linSep[:,0],y=linSep[:,1],c=linSep[:,2])\n",
    "plt.title(\"Linearly Separable\")\n",
    "plt.ylabel(\"Y: Net Promoter Score\")\n",
    "plt.xlabel(\"X: pH of Coffee\")\n",
    "plt.show();\n",
    "\n",
    "\n",
    "plot = plt.scatter(nonLin[:,0],y=nonLin[:,1],c=nonLin[:,2])\n",
    "plt.title(\"Non-Linearly Separable\")\n",
    "plt.ylabel(\"Y: Net Promoter Score\")\n",
    "plt.xlabel(\"X: pH of Coffee\")\n",
    "plt.show();\n",
    "# add the plot later"
   ]
  },
  {
   "cell_type": "markdown",
   "metadata": {},
   "source": [
    "# 3. Train on both sets"
   ]
  },
  {
   "cell_type": "markdown",
   "metadata": {},
   "source": [
    "Linearly Separable:"
   ]
  },
  {
   "cell_type": "code",
   "execution_count": 10,
   "metadata": {},
   "outputs": [
    {
     "name": "stdout",
     "output_type": "stream",
     "text": [
      "ran 2 iterations\n",
      "1.0\n",
      "ran 2 iterations\n",
      "1.0\n",
      "ran 2 iterations\n",
      "1.0\n",
      "ran 2 iterations\n",
      "1.0\n",
      "ran 2 iterations\n",
      "1.0\n",
      "ran 2 iterations\n",
      "1.0\n",
      "ran 2 iterations\n",
      "1.0\n",
      "ran 2 iterations\n",
      "1.0\n",
      "ran 2 iterations\n",
      "1.0\n",
      "ran 2 iterations\n",
      "1.0\n"
     ]
    }
   ],
   "source": [
    "data = linSep[:,:-1]\n",
    "labels = linSep[:,-1:]\n",
    "for lr in np.linspace(.01, 1, 10):\n",
    "    PClass = PerceptronClassifier(lr=lr,shuffle=True,deterministic=0)\n",
    "    PClass.fit(data,labels)\n",
    "    Accuracy = PClass.score(data,labels)\n",
    "    print(Accuracy)"
   ]
  },
  {
   "cell_type": "markdown",
   "metadata": {},
   "source": [
    "Because everything is centered very close to zero, it doesn't take very long for the learning rate to differentiate the two sets. \n",
    "\n",
    "We also see that the learning rate doesn't change much."
   ]
  },
  {
   "cell_type": "code",
   "execution_count": 11,
   "metadata": {},
   "outputs": [
    {
     "name": "stdout",
     "output_type": "stream",
     "text": [
      "ran 11 iterations\n",
      "0.375\n",
      "ran 11 iterations\n",
      "0.375\n",
      "ran 11 iterations\n",
      "0.375\n",
      "ran 11 iterations\n",
      "0.375\n",
      "ran 11 iterations\n",
      "0.375\n",
      "ran 11 iterations\n",
      "0.375\n",
      "ran 11 iterations\n",
      "0.375\n",
      "ran 11 iterations\n",
      "0.375\n",
      "ran 11 iterations\n",
      "0.375\n",
      "ran 11 iterations\n",
      "0.375\n"
     ]
    }
   ],
   "source": [
    "data = nonLin[:,:-1]\n",
    "labels = nonLin[:,-1:]\n",
    "for lr in np.linspace(.01, 1, 10):\n",
    "    PClass = PerceptronClassifier(lr=lr,shuffle=True,deterministic=0)\n",
    "    PClass.fit(data,labels)\n",
    "    Accuracy = PClass.score(data,labels)\n",
    "    print(Accuracy)"
   ]
  },
  {
   "cell_type": "markdown",
   "metadata": {},
   "source": [
    "Again, the learning rate had almost no impact"
   ]
  },
  {
   "cell_type": "code",
   "execution_count": 12,
   "metadata": {},
   "outputs": [
    {
     "name": "stdout",
     "output_type": "stream",
     "text": [
      "ran 11 iterations\n",
      "0.375\n"
     ]
    }
   ],
   "source": [
    "data = nonLin[:,:-1]\n",
    "labels = nonLin[:,-1:]\n",
    "\n",
    "PClass = PerceptronClassifier(lr=.1,shuffle=True,deterministic=0)\n",
    "PClass.fit(data,labels)\n",
    "Accuracy = PClass.score(data,labels)\n",
    "print(Accuracy)\n",
    "w = PClass.get_weights()"
   ]
  },
  {
   "cell_type": "code",
   "execution_count": 13,
   "metadata": {},
   "outputs": [
    {
     "data": {
      "image/png": "[encoded data removed]",
      "text/plain": [
       "<Figure size 432x288 with 1 Axes>"
      ]
     },
     "metadata": {
      "needs_background": "light"
     },
     "output_type": "display_data"
    }
   ],
   "source": [
    "# Non-Linearly Separable\n",
    "x = np.linspace(-1, 1, 100)\n",
    "w1,w2,b = w\n",
    "plt.title(\"Non-Linearly Seperable\")\n",
    "plt.ylabel(\"Y: Net Promoter Score\")\n",
    "plt.xlabel(\"X: pH of Coffee\")\n",
    "plt.scatter(nonLin[:,0],y=nonLin[:,1],c=nonLin[:,2])\n",
    "plt.plot(x, (-w1/w2)*x + (-b / w2))\n",
    "plt.ylim([-1,1])\n",
    "plt.show()"
   ]
  },
  {
   "cell_type": "markdown",
   "metadata": {},
   "source": [
    "It's pretty bad. I'm not quite sure why the weights are so off. Given more time, I might try to refine the algorithm, or start with random weights to see if that changes anything"
   ]
  },
  {
   "cell_type": "code",
   "execution_count": 14,
   "metadata": {},
   "outputs": [
    {
     "name": "stdout",
     "output_type": "stream",
     "text": [
      "ran 2 iterations\n",
      "1.0\n",
      "[-0.1   0.03  0.  ]\n"
     ]
    }
   ],
   "source": [
    "data = linSep[:,:-1]\n",
    "labels = linSep[:,-1:]\n",
    "\n",
    "PClass = PerceptronClassifier(lr=.1,shuffle=True,deterministic=0)\n",
    "PClass.fit(data,labels)\n",
    "Accuracy = PClass.score(data,labels)\n",
    "print(Accuracy)\n",
    "w = PClass.get_weights()\n",
    "print(w)"
   ]
  },
  {
   "cell_type": "code",
   "execution_count": 15,
   "metadata": {},
   "outputs": [
    {
     "data": {
      "image/png": "[encoded data removed]",
      "text/plain": [
       "<Figure size 432x288 with 1 Axes>"
      ]
     },
     "metadata": {
      "needs_background": "light"
     },
     "output_type": "display_data"
    }
   ],
   "source": [
    "# Linearly Separable\n",
    "x = np.linspace(-1, 1, 100)\n",
    "w1,w2,b = w\n",
    "plt.title(\"Linearly Seperable\")\n",
    "plt.ylabel(\"Y: Net Promoter Score\")\n",
    "plt.xlabel(\"X: pH of Coffee\")\n",
    "plt.scatter(linSep[:,0],y=linSep[:,1],c=linSep[:,2])\n",
    "plt.plot(x, (-w1/w2)*x + (-b / w2))\n",
    "plt.ylim([-1,1])\n",
    "plt.show()"
   ]
  },
  {
   "cell_type": "markdown",
   "metadata": {},
   "source": [
    "That's more like it. Probably because it's a super easy data set, but still not bad."
   ]
  },
  {
   "cell_type": "markdown",
   "metadata": {},
   "source": [
    "# 4. Learn Voting\n",
    "First I want to know the baseline if I just try to fit on the entire dataset"
   ]
  },
  {
   "cell_type": "code",
   "execution_count": 16,
   "metadata": {},
   "outputs": [
    {
     "name": "stdout",
     "output_type": "stream",
     "text": [
      "ran 34 iterations\n",
      "Accuracy = [0.97397]\n",
      "Final Weights = [ 1.00000000e-01 -1.00000000e-01 -8.00000000e-01  1.90000000e+00\n",
      "  3.00000000e-01 -1.00000000e-01  2.00000000e-01  4.00000000e-01\n",
      " -7.00000000e-01  3.00000000e-01 -1.10000000e+00  2.77555756e-17\n",
      "  1.00000000e-01 -1.00000000e-01 -3.00000000e-01  6.00000000e-01\n",
      " -1.10000000e+00]\n"
     ]
    }
   ],
   "source": [
    "runMahCode(\"standardVoting.arff\")"
   ]
  },
  {
   "cell_type": "markdown",
   "metadata": {},
   "source": [
    "Now trying it slightly random five times:"
   ]
  },
  {
   "cell_type": "code",
   "execution_count": 17,
   "metadata": {},
   "outputs": [
    {
     "name": "stdout",
     "output_type": "stream",
     "text": [
      "Iterations | Training | Testing\n",
      "    24     |  0.9752  | 0.9710\n",
      "    22     |  0.9783  | 0.9493\n",
      "    23     |  0.9721  | 0.9493\n",
      "    29     |  0.9628  | 0.9928\n",
      "    27     |  0.9814  | 0.9203\n",
      "avg iter: 25.0\n",
      "avg training: 0.9739938080495356\n",
      "avg test: 0.9565217391304348\n"
     ]
    }
   ],
   "source": [
    "mat = Arff(\"standardVoting.arff\",label_count=1)\n",
    "data = mat.data[:,0:-1]\n",
    "labels = mat.data[:,-1:]\n",
    "test = []\n",
    "train = []\n",
    "iters = []\n",
    "all_scores = []\n",
    "print(\"Iterations | Training | Testing\")\n",
    "for i in range(5):\n",
    "    PClass = PerceptronClassifier(lr=.1,shuffle=True)\n",
    "    Accuracy = 0.0\n",
    "    X_train, y_train, X_test, y_test = PerceptronClassifier.split_training(data,labels)\n",
    "    trash, iterr, scores = PClass.fit(X_train,y_train, quiet=True)\n",
    "    all_scores.append(scores)\n",
    "    training = PClass.score(X_train,y_train)\n",
    "    testing = PClass.score(X_test,y_test)\n",
    "    print(\"    {:}     |  {:.4f}  | {:.4f}\".format(iterr, training, testing))\n",
    "    iters.append(iterr)\n",
    "    test.append(testing)\n",
    "    train.append(training)\n",
    "print(f\"avg iter: {np.mean(iters)}\")\n",
    "print(f\"avg training: {np.mean(train)}\")\n",
    "print(f\"avg test: {np.mean(test)}\")"
   ]
  },
  {
   "cell_type": "code",
   "execution_count": 18,
   "metadata": {},
   "outputs": [
    {
     "data": {
      "image/png": "[encoded data removed]",
      "text/plain": [
       "<Figure size 432x288 with 1 Axes>"
      ]
     },
     "metadata": {
      "needs_background": "light"
     },
     "output_type": "display_data"
    }
   ],
   "source": [
    "averages = []\n",
    "minLen = min(iters)\n",
    "#print(min(all_scores[:], [key=len]))\n",
    "for i in range(minLen):\n",
    "    averages.append(np.mean(scores[:][i]))\n",
    "averages = np.array(averages)\n",
    "plt.plot(np.abs(1-averages))\n",
    "plt.title(\"Avg Misclassification across Epochs\")\n",
    "plt.xlabel(\"Epoch\")\n",
    "plt.ylabel(\"Avg Misclassification Rate\")\n",
    "plt.show()\n"
   ]
  },
  {
   "cell_type": "code",
   "execution_count": 19,
   "metadata": {},
   "outputs": [
    {
     "name": "stdout",
     "output_type": "stream",
     "text": [
      "ran 34 iterations\n",
      "Accuracy = [0.97397]\n",
      "Final Weights = [ 1.00000000e-01 -1.00000000e-01 -8.00000000e-01  1.90000000e+00\n",
      "  3.00000000e-01 -1.00000000e-01  2.00000000e-01  4.00000000e-01\n",
      " -7.00000000e-01  3.00000000e-01 -1.10000000e+00  2.77555756e-17\n",
      "  1.00000000e-01 -1.00000000e-01 -3.00000000e-01  6.00000000e-01\n",
      " -1.10000000e+00]\n"
     ]
    }
   ],
   "source": [
    "runMahCode(\"standardVoting.arff\")"
   ]
  },
  {
   "cell_type": "markdown",
   "metadata": {},
   "source": [
    "From this, we see that the physician fee freeze is the strongest identifing feature, followed by imigration, adoption of the budget resolution, mx missle, and then export-addministration act in south africa. We see that Synfuels cutback doesn't matter. "
   ]
  },
  {
   "cell_type": "markdown",
   "metadata": {},
   "source": [
    "# 5. scikit-learn"
   ]
  },
  {
   "cell_type": "code",
   "execution_count": 20,
   "metadata": {},
   "outputs": [],
   "source": [
    "from sklearn.linear_model import Perceptron\n",
    "from sklearn.model_selection import train_test_split"
   ]
  },
  {
   "cell_type": "code",
   "execution_count": 21,
   "metadata": {},
   "outputs": [],
   "source": [
    "ptron = Perceptron(tol=1e-3, random_state=0)\n",
    "mat = Arff(\"standardVoting.arff\",label_count=1)\n",
    "data = mat.data[:,0:-1]\n",
    "labels = mat.data[:,-1]\n",
    "X_train, X_test, y_train, y_test = train_test_split(data, labels, test_size=0.3)"
   ]
  },
  {
   "cell_type": "code",
   "execution_count": 22,
   "metadata": {},
   "outputs": [
    {
     "data": {
      "text/plain": [
       "Perceptron(alpha=0.0001, class_weight=None, early_stopping=False, eta0=1.0,\n",
       "           fit_intercept=True, max_iter=1000, n_iter_no_change=5, n_jobs=None,\n",
       "           penalty=None, random_state=0, shuffle=True, tol=0.001,\n",
       "           validation_fraction=0.1, verbose=0, warm_start=False)"
      ]
     },
     "execution_count": 22,
     "metadata": {},
     "output_type": "execute_result"
    }
   ],
   "source": [
    "ptron.fit(X_train,y_train)"
   ]
  },
  {
   "cell_type": "code",
   "execution_count": 23,
   "metadata": {},
   "outputs": [
    {
     "data": {
      "text/plain": [
       "0.9064748201438849"
      ]
     },
     "execution_count": 23,
     "metadata": {},
     "output_type": "execute_result"
    }
   ],
   "source": [
    "ptron.score(X_test,y_test)"
   ]
  },
  {
   "cell_type": "markdown",
   "metadata": {},
   "source": [
    "We see that our naive perceptron does fairly well compaired to the sklearn version. "
   ]
  },
  {
   "cell_type": "markdown",
   "metadata": {},
   "source": [
    "# 6. Iris Data Set"
   ]
  },
  {
   "cell_type": "code",
   "execution_count": 24,
   "metadata": {},
   "outputs": [],
   "source": [
    "from sklearn.datasets import load_iris"
   ]
  },
  {
   "cell_type": "code",
   "execution_count": 25,
   "metadata": {},
   "outputs": [],
   "source": [
    "X,y = load_iris(True)"
   ]
  },
  {
   "cell_type": "code",
   "execution_count": 26,
   "metadata": {},
   "outputs": [],
   "source": [
    "labels = ['setosa', 'versicolor', 'virginica']"
   ]
  },
  {
   "cell_type": "code",
   "execution_count": 27,
   "metadata": {},
   "outputs": [
    {
     "data": {
      "image/png": "[encoded data removed]",
      "text/plain": [
       "<Figure size 432x288 with 1 Axes>"
      ]
     },
     "metadata": {
      "needs_background": "light"
     },
     "output_type": "display_data"
    }
   ],
   "source": [
    "plt.scatter(X[:,2],X[:,3],c=y )\n",
    "plt.title(\"example iris parameters\")\n",
    "plt.xlabel(\"X\")\n",
    "plt.ylabel(\"Y\")\n",
    "plt.show()"
   ]
  },
  {
   "cell_type": "code",
   "execution_count": 28,
   "metadata": {},
   "outputs": [],
   "source": [
    "def giveOneValue(y, value):\n",
    "    return 1 if (y==value) else 0"
   ]
  },
  {
   "cell_type": "code",
   "execution_count": 29,
   "metadata": {},
   "outputs": [],
   "source": [
    "give1 = np.vectorize(giveOneValue)"
   ]
  },
  {
   "cell_type": "code",
   "execution_count": 45,
   "metadata": {},
   "outputs": [],
   "source": [
    "ptrons = []\n",
    "X_train, X_test, y_train, y_test = train_test_split(X, y, test_size=0.3)\n",
    "for i in range(3):\n",
    "    y_new = give1(y_train,i)\n",
    "    new_ptron = ptron.fit(X_train,y_new)\n",
    "    ptrons.append(new_ptron)\n",
    "#     print(y_new-y_train)"
   ]
  },
  {
   "cell_type": "code",
   "execution_count": 46,
   "metadata": {},
   "outputs": [
    {
     "data": {
      "text/plain": [
       "[Perceptron(alpha=0.0001, class_weight=None, early_stopping=False, eta0=1.0,\n",
       "            fit_intercept=True, max_iter=1000, n_iter_no_change=5, n_jobs=None,\n",
       "            penalty=None, random_state=0, shuffle=True, tol=0.001,\n",
       "            validation_fraction=0.1, verbose=0, warm_start=False),\n",
       " Perceptron(alpha=0.0001, class_weight=None, early_stopping=False, eta0=1.0,\n",
       "            fit_intercept=True, max_iter=1000, n_iter_no_change=5, n_jobs=None,\n",
       "            penalty=None, random_state=0, shuffle=True, tol=0.001,\n",
       "            validation_fraction=0.1, verbose=0, warm_start=False),\n",
       " Perceptron(alpha=0.0001, class_weight=None, early_stopping=False, eta0=1.0,\n",
       "            fit_intercept=True, max_iter=1000, n_iter_no_change=5, n_jobs=None,\n",
       "            penalty=None, random_state=0, shuffle=True, tol=0.001,\n",
       "            validation_fraction=0.1, verbose=0, warm_start=False)]"
      ]
     },
     "execution_count": 46,
     "metadata": {},
     "output_type": "execute_result"
    }
   ],
   "source": [
    "ptrons\n"
   ]
  },
  {
   "cell_type": "code",
   "execution_count": 47,
   "metadata": {},
   "outputs": [
    {
     "name": "stdout",
     "output_type": "stream",
     "text": [
      "For setosa, the accuracy is 0.24444444444444444\n",
      "For versicolor, the accuracy is 0.37777777777777777\n",
      "For virginica, the accuracy is 0.9777777777777777\n"
     ]
    }
   ],
   "source": [
    "for i in range(3):\n",
    "    print(f\"For {labels[i]}, the accuracy is {ptrons[i].score(X_test,give1(y_test,i))}\")"
   ]
  },
  {
   "cell_type": "markdown",
   "metadata": {},
   "source": [
    "From the example graph, we could see that the virginica was generally well split from the other two types, while the other two sets are more mixed, and thus harder to separate with a linear model."
   ]
  },
  {
   "cell_type": "code",
   "execution_count": null,
   "metadata": {},
   "outputs": [],
   "source": []
  }
 ],
 "metadata": {
  "kernelspec": {
   "display_name": "Python 3",
   "language": "python",
   "name": "python3"
  },
  "language_info": {
   "codemirror_mode": {
    "name": "ipython",
    "version": 3
   },
   "file_extension": ".py",
   "mimetype": "text/x-python",
   "name": "python",
   "nbconvert_exporter": "python",
   "pygments_lexer": "ipython3",
   "version": "3.7.4"
  }
 },
 "nbformat": 4,
 "nbformat_minor": 4
}
